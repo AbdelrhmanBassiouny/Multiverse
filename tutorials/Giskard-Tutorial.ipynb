{
 "cells": [
  {
   "cell_type": "markdown",
   "metadata": {},
   "source": [
    "# Giskard in Multiverse Tutorial"
   ]
  },
  {
   "cell_type": "markdown",
   "metadata": {},
   "source": [
    "## <span style=\"color:red\">**Important!!! Navigate to the 'Multiverse' directory first**</span>"
   ]
  },
  {
   "cell_type": "code",
   "execution_count": null,
   "metadata": {
    "vscode": {
     "languageId": "shellscript"
    }
   },
   "outputs": [],
   "source": [
    "if [ \"$(basename \"$PWD\")\" == \"Multiverse\" ]; then\n",
    "    echo \"You are in the 'Multiverse' directory.\"\n",
    "else\n",
    "    echo \"You are not in the 'Multiverse' directory, navigate to the 'Multiverse' directory.\"\n",
    "    cd ..\n",
    "    pwd\n",
    "    if [ \"$(basename \"$PWD\")\" == \"Multiverse\" ]; then\n",
    "        echo \"You are now in the 'Multiverse' directory.\"\n",
    "    else\n",
    "        echo \"You are still not in the 'Multiverse' directory...\"\n",
    "    fi\n",
    "fi\n",
    "MULTIVERSE_DIR=$PWD"
   ]
  },
  {
   "cell_type": "markdown",
   "metadata": {},
   "source": [
    "## 0. Clone these repositories and build them"
   ]
  },
  {
   "cell_type": "code",
   "execution_count": null,
   "metadata": {
    "vscode": {
     "languageId": "shellscript"
    }
   },
   "outputs": [],
   "source": [
    "source $MULTIVERSE_DIR/multiverse_ws/devel/setup.bash\n",
    "cd $MULTIVERSE_DIR/multiverse_ws/src\n",
    "git clone https://github.com/Multiverse-Framework/Multiverse-Robots.git multiverse_robots\n",
    "git clone https://github.com/Multiverse-Framework/Multiverse-World.git multiverse_world\n",
    "git clone https://github.com/Multiverse-Framework/Multiverse-Objects.git multiverse_objects\n",
    "git clone https://github.com/Multiverse-Framework/Multiverse-Demos.git multiverse_demos\n",
    "cd ..\n",
    "catkin build\n",
    "cd $MULTIVERSE_DIR"
   ]
  },
  {
   "cell_type": "markdown",
   "metadata": {},
   "source": [
    "## A. Install Giskard"
   ]
  },
  {
   "cell_type": "markdown",
   "metadata": {},
   "source": [
    "### 1. Create ROS workspace for Giskard"
   ]
  },
  {
   "cell_type": "markdown",
   "metadata": {},
   "source": [
    "#### a) Open a new terminal"
   ]
  },
  {
   "cell_type": "code",
   "execution_count": null,
   "metadata": {},
   "outputs": [],
   "source": [
    "gnome-terminal --working-directory=$MULTIVERSE_DIR"
   ]
  },
  {
   "cell_type": "markdown",
   "metadata": {},
   "source": [
    "#### b) Execute these commands in the terminal (sudo required)"
   ]
  },
  {
   "cell_type": "markdown",
   "metadata": {},
   "source": [
    "```bash\n",
    "MULTIVERSE_DIR=$PWD\n",
    "MULTIVERSE_EXTERN_DIR=$MULTIVERSE_DIR/multiverse/external\n",
    "mkdir -p $MULTIVERSE_DIR/giskard_ws/src\n",
    "git clone https://github.com/Multiverse-Framework/giskardpy.git --branch devel $MULTIVERSE_DIR/giskard_ws/src/giskardpy\n",
    "git clone https://github.com/SemRoCo/giskard_msgs.git $MULTIVERSE_DIR/giskard_ws/src/giskard_msgs\n",
    "rosdep install --ignore-src --from-paths $MULTIVERSE_DIR/giskard_ws/src              # install dependencies available through apt\n",
    "python3 -m pip install -r $MULTIVERSE_DIR/giskard_ws/src/giskardpy/requirements.txt  # install python deps\n",
    "cd $MULTIVERSE_DIR/giskard_ws\n",
    "source $MULTIVERSE_DIR/multiverse_ws/devel/setup.bash\n",
    "catkin build\n",
    "```"
   ]
  },
  {
   "cell_type": "markdown",
   "metadata": {},
   "source": [
    "### 2. Install custom Bullet Bindings (optional, sudo required!!!)\n",
    "Giskard uses Adrian Röfer's bullet bindings instead of the official ones, as they are much faster for our use case. Install them like this:"
   ]
  },
  {
   "cell_type": "markdown",
   "metadata": {},
   "source": [
    "#### a) Open a new terminal"
   ]
  },
  {
   "cell_type": "code",
   "execution_count": null,
   "metadata": {},
   "outputs": [],
   "source": [
    "gnome-terminal --working-directory=$MULTIVERSE_DIR"
   ]
  },
  {
   "cell_type": "markdown",
   "metadata": {},
   "source": [
    "#### b) Execute these commands in the terminal (sudo required)"
   ]
  },
  {
   "cell_type": "markdown",
   "metadata": {},
   "source": [
    "```bash\n",
    "export MULTIVERSE_EXTERN_DIR=$PWD/multiverse/external\n",
    "cd giskard_ws/src/giskardpy/scripts && ./build_better_pybullet.sh $MULTIVERSE_EXTERN_DIR\n",
    "```"
   ]
  },
  {
   "cell_type": "markdown",
   "metadata": {},
   "source": [
    "### 3. Install qpSWIFT for fast QP solving (optional, sudo required!!!)"
   ]
  },
  {
   "cell_type": "markdown",
   "metadata": {},
   "source": [
    "#### a) Open a new terminal"
   ]
  },
  {
   "cell_type": "code",
   "execution_count": null,
   "metadata": {},
   "outputs": [],
   "source": [
    "gnome-terminal --working-directory=$MULTIVERSE_DIR"
   ]
  },
  {
   "cell_type": "markdown",
   "metadata": {},
   "source": [
    "#### b) Execute these commands in the terminal (sudo required)"
   ]
  },
  {
   "cell_type": "markdown",
   "metadata": {},
   "source": [
    "```bash\n",
    "cd $PWD/multiverse/external\n",
    "git clone https://github.com/qpSWIFT/qpSWIFT.git\n",
    "cd qpSWIFT/python && sudo python3 setup.py install\n",
    "```"
   ]
  },
  {
   "cell_type": "markdown",
   "metadata": {},
   "source": [
    "## B. Run Giskard during a MuJoCo demonstration"
   ]
  },
  {
   "cell_type": "markdown",
   "metadata": {},
   "source": [
    "### 1. Run a MuJoCo demonstration"
   ]
  },
  {
   "cell_type": "markdown",
   "metadata": {},
   "source": [
    "#### a) Run `multiverse_server` in a new terminal"
   ]
  },
  {
   "cell_type": "code",
   "execution_count": null,
   "metadata": {},
   "outputs": [],
   "source": [
    "gnome-terminal -- multiverse_server"
   ]
  },
  {
   "cell_type": "markdown",
   "metadata": {},
   "source": [
    "#### b) Run MuJoCo demo in a new terminal"
   ]
  },
  {
   "cell_type": "code",
   "execution_count": null,
   "metadata": {},
   "outputs": [],
   "source": [
    "source $MULTIVERSE_DIR/giskard_ws/devel/setup.bash && gnome-terminal -- roslaunch tiago_dual_in_apartment demo.launch headless:=true"
   ]
  },
  {
   "cell_type": "markdown",
   "metadata": {},
   "source": [
    "### 2. Run Giskard demo"
   ]
  },
  {
   "cell_type": "code",
   "execution_count": null,
   "metadata": {},
   "outputs": [],
   "source": [
    "source $MULTIVERSE_DIR/giskard_ws/devel/setup.bash && rosrun tiago_dual_in_apartment giskard_demo.py"
   ]
  }
 ],
 "metadata": {
  "kernelspec": {
   "display_name": "Bash",
   "language": "bash",
   "name": "bash"
  },
  "language_info": {
   "codemirror_mode": "shell",
   "file_extension": ".sh",
   "mimetype": "text/x-sh",
   "name": "bash"
  }
 },
 "nbformat": 4,
 "nbformat_minor": 2
}
