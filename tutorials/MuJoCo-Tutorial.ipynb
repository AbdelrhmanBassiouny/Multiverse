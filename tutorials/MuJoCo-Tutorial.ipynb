{
 "cells": [
  {
   "cell_type": "markdown",
   "metadata": {},
   "source": [
    "# MuJoCo in Multiverse Tutorial"
   ]
  },
  {
   "cell_type": "markdown",
   "metadata": {},
   "source": [
    "## <span style=\"color:red\">**Important!!! Navigate to the 'Multiverse' directory first**</span>\n"
   ]
  },
  {
   "cell_type": "code",
   "execution_count": null,
   "metadata": {},
   "outputs": [],
   "source": [
    "if [ \"$(basename \"$PWD\")\" == \"Multiverse\" ]; then\n",
    "    echo \"You are in the 'Multiverse' directory.\"\n",
    "else\n",
    "    echo \"You are not in the 'Multiverse' directory, navigate to the 'Multiverse' directory.\"\n",
    "    cd ..\n",
    "    pwd\n",
    "    if [ \"$(basename \"$PWD\")\" == \"Multiverse\" ]; then\n",
    "        echo \"You are now in the 'Multiverse' directory.\"\n",
    "    else\n",
    "        echo \"You are still not in the 'Multiverse' directory...\"\n",
    "    fi\n",
    "fi\n",
    "MULTIVERSE_DIR=$PWD"
   ]
  },
  {
   "cell_type": "markdown",
   "metadata": {},
   "source": [
    "## 0. Clone these repositories and build them"
   ]
  },
  {
   "cell_type": "code",
   "execution_count": null,
   "metadata": {},
   "outputs": [],
   "source": [
    "source $MULTIVERSE_DIR/multiverse_ws/devel/setup.bash\n",
    "git clone https://github.com/Multiverse-Framework/Multiverse-Robots.git $MULTIVERSE_DIR/multiverse_ws/src/multiverse_robots\n",
    "git clone https://github.com/Multiverse-Framework/Multiverse-World.git $MULTIVERSE_DIR/multiverse_ws/src/multiverse_world\n",
    "git clone https://github.com/Multiverse-Framework/Multiverse-Objects.git $MULTIVERSE_DIR/multiverse_ws/src/multiverse_objects\n",
    "git clone https://github.com/Multiverse-Framework/Multiverse-Demos.git $MULTIVERSE_DIR/multiverse_ws/src/multiverse_demos\n",
    "cd $MULTIVERSE_DIR/multiverse_ws\n",
    "catkin build\n",
    "cd .."
   ]
  },
  {
   "cell_type": "markdown",
   "metadata": {},
   "source": [
    "## A. Import a robot from URDF into MuJoCo"
   ]
  },
  {
   "cell_type": "markdown",
   "metadata": {},
   "source": [
    "### 1. Create a tutorial workspace"
   ]
  },
  {
   "cell_type": "code",
   "execution_count": null,
   "metadata": {
    "vscode": {
     "languageId": "shellscript"
    }
   },
   "outputs": [],
   "source": [
    "rm -rf $MULTIVERSE_DIR/tutorial_ws\n",
    "mkdir -p $MULTIVERSE_DIR/tutorial_ws/src"
   ]
  },
  {
   "cell_type": "markdown",
   "metadata": {},
   "source": [
    "### 2. Create `my_robot_description` package that stores all descriptions of the robot"
   ]
  },
  {
   "cell_type": "code",
   "execution_count": null,
   "metadata": {},
   "outputs": [],
   "source": [
    "source $MULTIVERSE_DIR/multiverse_ws/devel/setup.bash\n",
    "\n",
    "cd $MULTIVERSE_DIR/tutorial_ws/src\n",
    "catkin_create_pkg my_robot_description\n",
    "cd ..\n",
    "catkin build\n",
    "cd .."
   ]
  },
  {
   "cell_type": "markdown",
   "metadata": {},
   "source": [
    "### 3. Use `multiverse_parser` to clean up and convert the robot from URDF to MJCF"
   ]
  },
  {
   "cell_type": "code",
   "execution_count": null,
   "metadata": {},
   "outputs": [],
   "source": [
    "multiverse_parser --help"
   ]
  },
  {
   "cell_type": "markdown",
   "metadata": {},
   "source": [
    "#### a) Clean up the URDF"
   ]
  },
  {
   "cell_type": "markdown",
   "metadata": {},
   "source": [
    "##### Convert all *.dae to *.obj and repath the meshes"
   ]
  },
  {
   "cell_type": "code",
   "execution_count": null,
   "metadata": {},
   "outputs": [],
   "source": [
    "source $MULTIVERSE_DIR/tutorial_ws/devel/setup.bash\n",
    "\n",
    "TIAGO_DUAL_URDF=$(rospack find tiago_dual_description)/urdf/tiago_dual.urdf\n",
    "MY_ROBOT_URDF=$(rospack find my_robot_description)/urdf/my_robot.urdf\n",
    "\n",
    "multiverse_parser --input=$TIAGO_DUAL_URDF --output=$MY_ROBOT_URDF"
   ]
  },
  {
   "cell_type": "markdown",
   "metadata": {},
   "source": [
    "##### Test the URDF"
   ]
  },
  {
   "cell_type": "code",
   "execution_count": null,
   "metadata": {},
   "outputs": [],
   "source": [
    "source $MULTIVERSE_DIR/tutorial_ws/devel/setup.bash\n",
    "\n",
    "roslaunch multiverse_parser view_urdf.launch urdf:=$MY_ROBOT_URDF"
   ]
  },
  {
   "cell_type": "markdown",
   "metadata": {},
   "source": [
    "#### b) Convert the robot from URDF into MJCF"
   ]
  },
  {
   "cell_type": "markdown",
   "metadata": {},
   "source": [
    "##### Use `--no-visual` to drop all visual meshes from URDF"
   ]
  },
  {
   "cell_type": "code",
   "execution_count": null,
   "metadata": {},
   "outputs": [],
   "source": [
    "source $MULTIVERSE_DIR/tutorial_ws/devel/setup.bash\n",
    "\n",
    "TIAGO_DUAL_URDF=$(rospack find tiago_dual_description)/urdf/tiago_dual.urdf\n",
    "MY_ROBOT_MJCF=$(rospack find my_robot_description)/mjcf/my_robot.xml\n",
    "\n",
    "multiverse_parser --input=$TIAGO_DUAL_URDF --output=$MY_ROBOT_MJCF --no-visual"
   ]
  },
  {
   "cell_type": "markdown",
   "metadata": {},
   "source": [
    "##### Test the MJCF"
   ]
  },
  {
   "cell_type": "code",
   "execution_count": null,
   "metadata": {
    "scrolled": true
   },
   "outputs": [],
   "source": [
    "source $MULTIVERSE_DIR/tutorial_ws/devel/setup.bash\n",
    "\n",
    "MY_ROBOT_MJCF=$(rospack find my_robot_description)/mjcf/my_robot.xml\n",
    "\n",
    "simulate $MY_ROBOT_MJCF"
   ]
  },
  {
   "cell_type": "markdown",
   "metadata": {},
   "source": [
    "##### Insert this tag into `my_robot.xml`, before `</mujoco>` to exclude the contact pairs"
   ]
  },
  {
   "cell_type": "markdown",
   "metadata": {},
   "source": [
    "```xml\n",
    "<contact>\n",
    "    <exclude body1=\"torso_lift_link\" body2=\"torso_fixed_column_link\"/>\n",
    "    <exclude body1=\"base_link\" body2=\"wheel_right_link\"/>\n",
    "    <exclude body1=\"base_link\" body2=\"wheel_left_link\"/>\n",
    "    <exclude body1=\"base_link\" body2=\"caster_back_left_2_link\"/>\n",
    "    <exclude body1=\"base_link\" body2=\"caster_back_right_2_link\"/>\n",
    "    <exclude body1=\"base_link\" body2=\"caster_front_left_2_link\"/>\n",
    "    <exclude body1=\"base_link\" body2=\"caster_front_right_2_link\"/>\n",
    "</contact>\n",
    "```"
   ]
  },
  {
   "cell_type": "markdown",
   "metadata": {},
   "source": [
    "#### c) Clean up URDF and MJCF if needed\n",
    "- Change robot name\n",
    "- Add some parameters"
   ]
  },
  {
   "cell_type": "markdown",
   "metadata": {},
   "source": [
    "## B. Control the robot in MuJoCo with ROS"
   ]
  },
  {
   "cell_type": "markdown",
   "metadata": {},
   "source": [
    "### 1. Create `my_robot_mujoco` package to launch the robot from ROS"
   ]
  },
  {
   "cell_type": "markdown",
   "metadata": {},
   "source": [
    "#### a) Create the package and build it"
   ]
  },
  {
   "cell_type": "code",
   "execution_count": null,
   "metadata": {},
   "outputs": [],
   "source": [
    "source $MULTIVERSE_DIR/tutorial_ws/devel/setup.bash\n",
    "\n",
    "cd $MULTIVERSE_DIR/tutorial_ws/src\n",
    "catkin_create_pkg my_robot_mujoco\n",
    "mkdir my_robot_mujoco/launch\n",
    "mkdir my_robot_mujoco/config\n",
    "touch my_robot_mujoco/config/mujoco_params.yaml\n",
    "touch my_robot_mujoco/config/control_params.yaml\n",
    "touch my_robot_mujoco/config/multiverse_params.yaml\n",
    "touch my_robot_mujoco/launch/my_robot_mujoco.launch\n",
    "cd ..\n",
    "catkin build\n",
    "cd .."
   ]
  },
  {
   "cell_type": "markdown",
   "metadata": {},
   "source": [
    "#### b) Copy this configuration into `mujoco_params.yaml`"
   ]
  },
  {
   "cell_type": "markdown",
   "metadata": {},
   "source": [
    "```yaml\n",
    "mujoco:\n",
    "  robots: [my_robot]\n",
    "  pose_init: [0.0, 0.0, 0.0, 0.0, 0.0, 0.0]\n",
    "  add_odom_joints: true\n",
    "  root_frame_id: map\n",
    "```"
   ]
  },
  {
   "cell_type": "markdown",
   "metadata": {},
   "source": [
    "#### c) Copy this launch file into `my_robot_mujoco.launch`"
   ]
  },
  {
   "cell_type": "markdown",
   "metadata": {},
   "source": [
    "```xml\n",
    "<launch>\n",
    "\n",
    "    <include file=\"$(find mujoco_sim)/launch/mujoco_sim.launch\">\n",
    "        <arg name=\"config\" value=\"$(find my_robot_mujoco)/config/mujoco_params.yaml\" />\n",
    "        <arg name=\"robot\" value=\"$(find my_robot_description)/mjcf/my_robot.xml\" />\n",
    "    </include>\n",
    "\n",
    "</launch>\n",
    "```"
   ]
  },
  {
   "cell_type": "markdown",
   "metadata": {},
   "source": [
    "#### d) Launch the robot in MuJoCo from ROS"
   ]
  },
  {
   "cell_type": "code",
   "execution_count": null,
   "metadata": {},
   "outputs": [],
   "source": [
    "source $MULTIVERSE_DIR/tutorial_ws/devel/setup.bash\n",
    "\n",
    "roslaunch my_robot_mujoco my_robot_mujoco.launch"
   ]
  },
  {
   "cell_type": "markdown",
   "metadata": {},
   "source": [
    "### 2. Add controller for the robot"
   ]
  },
  {
   "cell_type": "markdown",
   "metadata": {},
   "source": [
    "#### a) Copy the following configuration into `control_params.yaml`"
   ]
  },
  {
   "cell_type": "markdown",
   "metadata": {},
   "source": [
    "```yaml\n",
    "joint_state_controller:\n",
    "  type: joint_state_controller/JointStateController\n",
    "  publish_rate: 60\n",
    "\n",
    "torso_controller:\n",
    "  type: \"effort_controllers/JointTrajectoryController\"\n",
    "  joints:\n",
    "    - torso_lift_joint\n",
    "  gains:\n",
    "    torso_lift_joint: &pid_gains {p: 2000, i: 100, d: 50}\n",
    "\n",
    "head_controller:\n",
    "  type: \"effort_controllers/JointTrajectoryController\"\n",
    "  joints:\n",
    "    - head_1_joint\n",
    "    - head_2_joint\n",
    "  gains:\n",
    "    head_1_joint: *pid_gains\n",
    "    head_2_joint: *pid_gains\n",
    "\n",
    "arm_left_controller:\n",
    "  type: \"effort_controllers/JointTrajectoryController\"\n",
    "  joints:\n",
    "    - arm_left_1_joint\n",
    "    - arm_left_2_joint\n",
    "    - arm_left_3_joint\n",
    "    - arm_left_4_joint\n",
    "    - arm_left_5_joint\n",
    "    - arm_left_6_joint\n",
    "    - arm_left_7_joint\n",
    "  gains:\n",
    "    arm_left_1_joint: *pid_gains\n",
    "    arm_left_2_joint: *pid_gains\n",
    "    arm_left_3_joint: *pid_gains\n",
    "    arm_left_4_joint: *pid_gains\n",
    "    arm_left_5_joint: *pid_gains\n",
    "    arm_left_6_joint: *pid_gains\n",
    "    arm_left_7_joint: *pid_gains\n",
    "\n",
    "arm_right_controller:\n",
    "  type: \"effort_controllers/JointTrajectoryController\"\n",
    "  joints:\n",
    "    - arm_right_1_joint\n",
    "    - arm_right_2_joint\n",
    "    - arm_right_3_joint\n",
    "    - arm_right_4_joint\n",
    "    - arm_right_5_joint\n",
    "    - arm_right_6_joint\n",
    "    - arm_right_7_joint\n",
    "  gains:\n",
    "    arm_right_1_joint: *pid_gains\n",
    "    arm_right_2_joint: *pid_gains\n",
    "    arm_right_3_joint: *pid_gains\n",
    "    arm_right_4_joint: *pid_gains\n",
    "    arm_right_5_joint: *pid_gains\n",
    "    arm_right_6_joint: *pid_gains\n",
    "    arm_right_7_joint: *pid_gains\n",
    "\n",
    "gripper_left_left_finger_controller:\n",
    "  type: effort_controllers/JointEffortController\n",
    "  joint: gripper_left_left_finger_joint\n",
    "gripper_left_right_finger_controller:\n",
    "  type: effort_controllers/JointEffortController\n",
    "  joint: gripper_left_right_finger_joint\n",
    "gripper_right_left_finger_controller:\n",
    "  type: effort_controllers/JointEffortController\n",
    "  joint: gripper_right_left_finger_joint\n",
    "gripper_right_right_finger_controller:\n",
    "  type: effort_controllers/JointEffortController\n",
    "  joint: gripper_right_right_finger_joint\n",
    "```"
   ]
  },
  {
   "cell_type": "markdown",
   "metadata": {},
   "source": [
    "#### b) Insert the following code into `my_robot_mujoco.launch`"
   ]
  },
  {
   "cell_type": "markdown",
   "metadata": {},
   "source": [
    "```xml\n",
    "<param name=\"robot_description\" command=\"$(find xacro)/xacro '$(find my_robot_description)/urdf/my_robot.urdf'\" />\n",
    "    <rosparam command=\"load\" file=\"$(find my_robot_mujoco)/config/control_params.yaml\" />\n",
    "    <node name=\"controller_manager\" pkg=\"controller_manager\" type=\"controller_manager\" respawn=\"false\" output=\"screen\" args=\"spawn \n",
    "        joint_state_controller\n",
    "        torso_controller\n",
    "        head_controller\n",
    "        arm_left_controller\n",
    "        arm_right_controller\n",
    "        gripper_left_left_finger_controller\n",
    "        gripper_left_right_finger_controller\n",
    "        gripper_right_right_finger_controller\n",
    "        gripper_right_left_finger_controller\" />\n",
    "    <node name=\"rqt_joint_trajectory_controller\" pkg=\"rqt_joint_trajectory_controller\" type=\"rqt_joint_trajectory_controller\" />\n",
    "    <node name=\"rqt_robot_steering\" pkg=\"rqt_robot_steering\" type=\"rqt_robot_steering\" />\n",
    "```"
   ]
  },
  {
   "cell_type": "markdown",
   "metadata": {},
   "source": [
    "#### c) Launch the robot with controllers"
   ]
  },
  {
   "cell_type": "code",
   "execution_count": null,
   "metadata": {},
   "outputs": [],
   "source": [
    "source $MULTIVERSE_DIR/tutorial_ws/devel/setup.bash\n",
    "\n",
    "roslaunch my_robot_mujoco my_robot_mujoco.launch"
   ]
  },
  {
   "cell_type": "markdown",
   "metadata": {},
   "source": [
    "## C. Connect MuJoCo to ROS through Multiverse Server"
   ]
  },
  {
   "cell_type": "markdown",
   "metadata": {},
   "source": [
    "### 1. Connect MuJoCo to Multiverse Server"
   ]
  },
  {
   "cell_type": "markdown",
   "metadata": {},
   "source": [
    "#### Insert this configuration into `mujoco_params.yaml`"
   ]
  },
  {
   "cell_type": "markdown",
   "metadata": {},
   "source": [
    "```yaml\n",
    "multiverse:  \n",
    "  length_unit: m\n",
    "  angle_unit: rad\n",
    "  force_unit: N\n",
    "  time_unit: s\n",
    "  handedness: rhs\n",
    "  \n",
    "  send:\n",
    "    body: [position, quaternion]\n",
    "    joint: [joint_rvalue, joint_tvalue]\n",
    "    \n",
    "  receive:\n",
    "    my_robot: [relative_velocity]\n",
    "```"
   ]
  },
  {
   "cell_type": "markdown",
   "metadata": {},
   "source": [
    "### 2. Create Multiverse Client for ROS"
   ]
  },
  {
   "cell_type": "markdown",
   "metadata": {},
   "source": [
    "#### a) Copy the following configuration into `multiverse_params.yaml`"
   ]
  },
  {
   "cell_type": "markdown",
   "metadata": {},
   "source": [
    "```yaml\n",
    "multiverse:  \n",
    "  length_unit: m\n",
    "  angle_unit: rad\n",
    "  force_unit: N\n",
    "  time_unit: s\n",
    "  handedness: rhs\n",
    "\n",
    "  publishers:\n",
    "    tf:\n",
    "      port: 7300\n",
    "      rate: 60\n",
    "\n",
    "  subscribers:\n",
    "    cmd_vel:\n",
    "      port: 7200\n",
    "      body: my_robot\n",
    "```"
   ]
  },
  {
   "cell_type": "markdown",
   "metadata": {},
   "source": [
    "#### b) Insert the following code into `my_robot_mujoco.launch`"
   ]
  },
  {
   "cell_type": "markdown",
   "metadata": {},
   "source": [
    "```xml\n",
    "<rosparam command=\"load\" file=\"$(find my_robot_mujoco)/config/multiverse_params.yaml\" />\n",
    "<node pkg=\"multiverse_socket\" type=\"multiverse_socket_node.py\" name=\"multiverse_socket\" output=\"screen\" />\n",
    "<node pkg=\"rviz\" type=\"rviz\" name=\"rviz\" />\n",
    "```"
   ]
  },
  {
   "cell_type": "markdown",
   "metadata": {},
   "source": [
    "### 3. Run `multiverse_server` in another terminal"
   ]
  },
  {
   "cell_type": "code",
   "execution_count": null,
   "metadata": {},
   "outputs": [],
   "source": [
    "gnome-terminal -- multiverse_server"
   ]
  },
  {
   "cell_type": "markdown",
   "metadata": {},
   "source": [
    "### 4. Launch the robot in Multiverse (keep `multiverse_server` running)"
   ]
  },
  {
   "cell_type": "code",
   "execution_count": null,
   "metadata": {},
   "outputs": [],
   "source": [
    "source $MULTIVERSE_DIR/tutorial_ws/devel/setup.bash\n",
    "\n",
    "roslaunch my_robot_mujoco my_robot_mujoco.launch"
   ]
  },
  {
   "cell_type": "markdown",
   "metadata": {},
   "source": [
    "## D. Import an environment from USD into MuJoCo"
   ]
  },
  {
   "cell_type": "markdown",
   "metadata": {},
   "source": [
    "### 1. Create `my_env_description` package that stores all descriptions of the environment"
   ]
  },
  {
   "cell_type": "code",
   "execution_count": null,
   "metadata": {},
   "outputs": [],
   "source": [
    "source $MULTIVERSE_DIR/multiverse_ws/devel/setup.bash\n",
    "\n",
    "cd $MULTIVERSE_DIR/tutorial_ws/src\n",
    "catkin_create_pkg my_env_description\n",
    "cd ..\n",
    "catkin build\n",
    "cd .."
   ]
  },
  {
   "cell_type": "markdown",
   "metadata": {},
   "source": [
    "### 2. Use `multiverse_parser` to convert the environment from USD into URDF and into MJCF"
   ]
  },
  {
   "cell_type": "markdown",
   "metadata": {},
   "source": [
    "#### a) Check the environment in USD"
   ]
  },
  {
   "cell_type": "code",
   "execution_count": null,
   "metadata": {},
   "outputs": [],
   "source": [
    "source $MULTIVERSE_DIR/tutorial_ws/devel/setup.bash\n",
    "\n",
    "MY_ENV_IN_USD=$(rospack find iai_apartment)/usd/apartment.usda\n",
    "usdview $MY_ENV_IN_USD"
   ]
  },
  {
   "cell_type": "markdown",
   "metadata": {},
   "source": [
    "#### b) Convert the environment from USD into URDF and into MJCF"
   ]
  },
  {
   "cell_type": "code",
   "execution_count": null,
   "metadata": {},
   "outputs": [],
   "source": [
    "source $MULTIVERSE_DIR/tutorial_ws/devel/setup.bash\n",
    "\n",
    "MY_ENV_IN_USD=$(rospack find iai_apartment)/usd/apartment.usda\n",
    "MY_ENV_IN_URDF=$(rospack find my_env_description)/urdf/my_environment.urdf\n",
    "MY_ENV_IN_MJCF=$(rospack find my_env_description)/mjcf/my_environment.xml\n",
    "\n",
    "#multiverse_parser --input=$MY_ENV_IN_USD --output=$MY_ENV_IN_URDF\n",
    "multiverse_parser --input=$MY_ENV_IN_USD --output=$MY_ENV_IN_MJCF --no-visual"
   ]
  },
  {
   "cell_type": "markdown",
   "metadata": {},
   "source": [
    "#### c) Add floor and light to the environment in MJCF"
   ]
  },
  {
   "cell_type": "markdown",
   "metadata": {},
   "source": [
    "```xml\n",
    "<asset>\n",
    "    <texture name=\"grid\" type=\"2d\" builtin=\"checker\" width=\"512\" height=\"512\" rgb1=\".1 .2 .3\" rgb2=\".2 .3 .4\" />\n",
    "    <material name=\"grid\" texture=\"grid\" texrepeat=\"1 1\" texuniform=\"true\" reflectance=\".2\" />\n",
    "</asset>\n",
    "\n",
    "<worldbody>\n",
    "    <geom name=\"floor\" size=\"0 0 .05\" type=\"plane\" material=\"grid\" condim=\"4\" friction=\"2 0.05 0.01\" />\n",
    "    <light diffuse=\".5 .5 .5\" pos=\"0 0 5\" dir=\"0 0 -1\" />\n",
    "</worldbody>\n",
    "```"
   ]
  },
  {
   "cell_type": "markdown",
   "metadata": {},
   "source": [
    "#### d) Check the environment in URDF and MJCF"
   ]
  },
  {
   "cell_type": "code",
   "execution_count": null,
   "metadata": {},
   "outputs": [],
   "source": [
    "source $MULTIVERSE_DIR/tutorial_ws/devel/setup.bash\n",
    "\n",
    "MY_ENV_IN_URDF=$(rospack find my_env_description)/urdf/my_environment.urdf\n",
    "MY_ENV_IN_MJCF=$(rospack find my_env_description)/mjcf/my_environment.xml\n",
    "\n",
    "roslaunch multiverse_parser view_urdf.launch urdf:=$MY_ENV_IN_URDF & simulate $MY_ENV_IN_MJCF"
   ]
  },
  {
   "cell_type": "markdown",
   "metadata": {},
   "source": [
    "#### d) Clean up the URDF and MJCF if needed\n",
    "- Change environment name\n",
    "- Add some parameters"
   ]
  },
  {
   "cell_type": "markdown",
   "metadata": {},
   "source": [
    "### 3. Use the environment in MuJoCo"
   ]
  },
  {
   "cell_type": "markdown",
   "metadata": {},
   "source": [
    "#### a) Replace the following code in `my_robot_mujoco.launch`"
   ]
  },
  {
   "cell_type": "markdown",
   "metadata": {},
   "source": [
    "```xml\n",
    "<param name=\"env_description\" command=\"$(find xacro)/xacro '$(find my_env_description)/urdf/my_environment.urdf'\" />\n",
    "<include file=\"$(find mujoco_sim)/launch/mujoco_sim.launch\">\n",
    "    <arg name=\"config\" value=\"$(find my_robot_mujoco)/config/mujoco_params.yaml\" />\n",
    "    <arg name=\"robot\" value=\"$(find my_robot_description)/mjcf/my_robot.xml\" />\n",
    "    <arg name=\"world\" value=\"$(find my_env_description)/mjcf/my_environment.xml\" />\n",
    "</include>\n",
    "```"
   ]
  },
  {
   "cell_type": "markdown",
   "metadata": {},
   "source": [
    "#### b) Change the `pose_init` in `mujoco_params.yaml`"
   ]
  },
  {
   "cell_type": "markdown",
   "metadata": {},
   "source": [
    "```yaml\n",
    "pose_init: [1.5, 2.5, 0.0, 0.0, 0.0, 0.0]\n",
    "```"
   ]
  },
  {
   "cell_type": "markdown",
   "metadata": {},
   "source": [
    "#### c) Launch the robot with environment in Multiverse (keep `multiverse_server` running)"
   ]
  },
  {
   "cell_type": "code",
   "execution_count": null,
   "metadata": {},
   "outputs": [],
   "source": [
    "source $MULTIVERSE_DIR/tutorial_ws/devel/setup.bash\n",
    "\n",
    "roslaunch my_robot_mujoco my_robot_mujoco.launch"
   ]
  }
 ],
 "metadata": {
  "kernelspec": {
   "display_name": "Bash",
   "language": "bash",
   "name": "bash"
  },
  "language_info": {
   "codemirror_mode": "shell",
   "file_extension": ".sh",
   "mimetype": "text/x-sh",
   "name": "bash"
  }
 },
 "nbformat": 4,
 "nbformat_minor": 2
}
