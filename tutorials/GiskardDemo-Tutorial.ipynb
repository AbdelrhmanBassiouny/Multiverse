{
 "cells": [
  {
   "cell_type": "markdown",
   "metadata": {},
   "source": [
    "# Giskard Demo Tutorial"
   ]
  },
  {
   "cell_type": "code",
   "execution_count": null,
   "metadata": {},
   "outputs": [],
   "source": [
    "from geometry_msgs.msg import PoseStamped, Quaternion\n",
    "from std_msgs.msg import Float64\n",
    "\n",
    "from giskardpy.python_interface import GiskardWrapper\n",
    "\n",
    "import rospy\n",
    "\n",
    "gripper_left_publishers = [\n",
    "    rospy.Publisher(\"/gripper_left_left_finger_effort_controller/command\", Float64, queue_size=10),\n",
    "    rospy.Publisher(\"/gripper_left_right_finger_effort_controller/command\", Float64, queue_size=10),\n",
    "]\n",
    "\n",
    "gripper_right_publishers = [\n",
    "    rospy.Publisher(\"/gripper_right_left_finger_effort_controller/command\", Float64, queue_size=10),\n",
    "    rospy.Publisher(\"/gripper_right_right_finger_effort_controller/command\", Float64, queue_size=10),\n",
    "]\n",
    "\n",
    "\n",
    "def control_gripper(open: bool, left: bool = True, right: bool = True) -> None:\n",
    "    if open:\n",
    "        rospy.loginfo(\"Open gripper\")\n",
    "    else:\n",
    "        rospy.loginfo(\"Close gripper\")\n",
    "\n",
    "    if left:\n",
    "        for gripper_left_publisher in gripper_left_publishers:\n",
    "            gripper_left_publisher.publish(Float64(500) if open else Float64(-500))\n",
    "\n",
    "    if right:\n",
    "        for gripper_right_publisher in gripper_right_publishers:\n",
    "            gripper_right_publisher.publish(Float64(500) if open else Float64(-500))\n",
    "\n",
    "    if not open:\n",
    "        rospy.sleep(1)"
   ]
  },
  {
   "cell_type": "code",
   "execution_count": null,
   "metadata": {},
   "outputs": [],
   "source": [
    "rospy.init_node(\"test_giskard\")\n",
    "handle_name = 'cabinet9_drawer2_handle'\n",
    "apartment_name = 'apartment'\n",
    "left_gripper_name = 'left_gripper_tool_frame'\n",
    "\n",
    "# initialize Giskard\n",
    "giskard = GiskardWrapper(node_name=\"giskard\")\n",
    "giskard.clear_world()"
   ]
  },
  {
   "cell_type": "code",
   "execution_count": null,
   "metadata": {
    "scrolled": true
   },
   "outputs": [],
   "source": [
    "# open grippers\n",
    "control_gripper(open=True, left=True, right=True)"
   ]
  },
  {
   "cell_type": "code",
   "execution_count": null,
   "metadata": {},
   "outputs": [],
   "source": [
    "# load apartment model into Giskard\n",
    "apartment_urdf = rospy.get_param('apartment_description')\n",
    "apartment_pose = PoseStamped()\n",
    "apartment_pose.header.frame_id = 'map'\n",
    "apartment_pose.pose.orientation.w = 1\n",
    "giskard.add_urdf(name=apartment_name, urdf=apartment_urdf, pose=apartment_pose, parent_link='map')"
   ]
  },
  {
   "cell_type": "code",
   "execution_count": null,
   "metadata": {},
   "outputs": [],
   "source": [
    "default_pose = {\n",
    "    'arm_left_1_joint': - 1.0,\n",
    "    'arm_left_2_joint': 0.0,\n",
    "    'arm_left_3_joint': 1.5,\n",
    "    'arm_left_4_joint': 2.2,\n",
    "    'arm_left_5_joint': - 1.5,\n",
    "    'arm_left_6_joint': 0.5,\n",
    "    'arm_left_7_joint': 0.0,\n",
    "    'arm_right_1_joint': - 1.0,\n",
    "    'arm_right_2_joint': 0.0,\n",
    "    'arm_right_3_joint': 1.5,\n",
    "    'arm_right_4_joint': 2.2,\n",
    "    'arm_right_5_joint': - 1.5,\n",
    "    'arm_right_6_joint': 0.5,\n",
    "    'arm_right_7_joint': 0.0,\n",
    "    'torso_lift_joint': 0.35\n",
    "}\n",
    "\n",
    "# move arms to default pose and drive in front of drawer\n",
    "giskard.set_joint_goal(goal_state=default_pose)\n",
    "cart_goal = PoseStamped()\n",
    "cart_goal.header.frame_id = 'map'\n",
    "cart_goal.pose.position.x = 1.7\n",
    "cart_goal.pose.position.y = 2.5\n",
    "cart_goal.pose.orientation.w = 1  # identity rotation\n",
    "giskard.set_cart_goal(goal_pose=cart_goal, tip_link='base_footprint', root_link=\"map\")\n",
    "giskard.plan_and_execute()"
   ]
  },
  {
   "cell_type": "code",
   "execution_count": null,
   "metadata": {},
   "outputs": [],
   "source": [
    "# grasp handle\n",
    "# pregrasp pose\n",
    "left_gripper_goal = PoseStamped()\n",
    "left_gripper_goal.header.frame_id = handle_name\n",
    "left_gripper_goal.pose.position.x = -0.1\n",
    "left_gripper_goal.pose.orientation.x = 1  # 180-degree rotation about x-axis of gripper\n",
    "giskard.set_cart_goal(goal_pose=left_gripper_goal, tip_link=left_gripper_name,\n",
    "                      root_link='base_footprint')\n",
    "giskard.plan_and_execute()\n",
    "\n",
    "# grasp pose\n",
    "left_gripper_goal = PoseStamped()\n",
    "left_gripper_goal.header.frame_id = handle_name\n",
    "left_gripper_goal.pose.position.x = -0.01\n",
    "left_gripper_goal.pose.orientation.x = 1  # 180-degree rotation about x-axis of gripper\n",
    "giskard.set_cart_goal(goal_pose=left_gripper_goal, tip_link=left_gripper_name,\n",
    "                      root_link='base_footprint')\n",
    "giskard.plan_and_execute()\n",
    "control_gripper(open=False, left=True, right=False)"
   ]
  },
  {
   "cell_type": "code",
   "execution_count": null,
   "metadata": {},
   "outputs": [],
   "source": [
    "# open drawer\n",
    "giskard.set_open_container_goal(tip_link=left_gripper_name,\n",
    "                                environment_link=handle_name,\n",
    "                                max_velocity=0.1)\n",
    "giskard.plan_and_execute()"
   ]
  },
  {
   "cell_type": "code",
   "execution_count": null,
   "metadata": {},
   "outputs": [],
   "source": [
    "# close drawer\n",
    "giskard.set_close_container_goal(tip_link=left_gripper_name,\n",
    "                                environment_link=handle_name)\n",
    "giskard.plan_and_execute()\n",
    "control_gripper(open=True)"
   ]
  },
  {
   "cell_type": "code",
   "execution_count": null,
   "metadata": {},
   "outputs": [],
   "source": [
    "# post grasp\n",
    "left_gripper_goal = PoseStamped()\n",
    "left_gripper_goal.header.frame_id = handle_name\n",
    "left_gripper_goal.pose.position.x = -0.1\n",
    "left_gripper_goal.pose.orientation.x = 1  # 180-degree rotation about x-axis of gripper\n",
    "giskard.set_cart_goal(goal_pose=left_gripper_goal, tip_link=left_gripper_name,\n",
    "                      root_link='base_footprint')\n",
    "giskard.plan_and_execute()"
   ]
  }
 ],
 "metadata": {
  "kernelspec": {
   "display_name": "Python 3 (ipykernel)",
   "language": "python",
   "name": "python3"
  },
  "language_info": {
   "codemirror_mode": {
    "name": "ipython",
    "version": 3
   },
   "file_extension": ".py",
   "mimetype": "text/x-python",
   "name": "python",
   "nbconvert_exporter": "python",
   "pygments_lexer": "ipython3",
   "version": "3.8.10"
  }
 },
 "nbformat": 4,
 "nbformat_minor": 2
}
